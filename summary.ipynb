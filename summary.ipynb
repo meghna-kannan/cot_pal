{
 "cells": [
  {
   "cell_type": "code",
   "execution_count": 11,
   "id": "94ed6261-4371-4333-a65a-24be970d9ec3",
   "metadata": {},
   "outputs": [
    {
     "name": "stdout",
     "output_type": "stream",
     "text": [
      "total=500\n",
      "cot_correct=421\n",
      "pal_correct=431\n",
      "cot_wrong=79\n",
      "pal_wrong=69\n",
      "both_correct=395\n",
      "both_wrong=43\n",
      "cotcorrect_palwrong=26\n",
      "cotwrong_palcorrect=36\n"
     ]
    }
   ],
   "source": [
    "import os\n",
    "from tools import jsonlines_load_file\n",
    "folder_path = 'analysis'\n",
    "file_pattern = 'mp-0301.jsonl'  # Example pattern, change it to match your desired pattern\n",
    "\n",
    "cot_correct = 0\n",
    "cot_wrong = 0\n",
    "cot_error = 0\n",
    "\n",
    "pal_correct = 0\n",
    "pal_wrong = 0\n",
    "pal_error =0 \n",
    "both_correct = 0\n",
    "both_wrong=0\n",
    "total=0\n",
    "cotcorrect_palwrong=0\n",
    "cotwrong_palcorrect=0\n",
    "\n",
    "for file_name in os.listdir(folder_path):\n",
    "    if file_name.endswith(file_pattern):\n",
    "        lines = jsonlines_load_file(f'{folder_path}/{file_name}')\n",
    "        for line in lines :\n",
    "            total+=1\n",
    "            \n",
    "            if line['answer']== line['cot']:\n",
    "                cot_correct+=1\n",
    "            else:\n",
    "                cot_wrong+=1\n",
    "                \n",
    "            if line['answer']== line['pal']:\n",
    "                 pal_correct+=1\n",
    "            else:\n",
    "                pal_wrong+=1\n",
    "            if line['answer']== line['cot'] and line['answer']== line['pal']:\n",
    "                both_correct+=1\n",
    "                \n",
    "            if line['answer']!= line['cot'] and line['answer']!= line['pal']:\n",
    "                both_wrong+=1\n",
    "                \n",
    "            if line['answer'] == line['cot'] and line['answer'] != line['pal']:\n",
    "                cotcorrect_palwrong+=1\n",
    "\n",
    "            if line['answer'] != line['cot'] and line['answer'] == line['pal']:\n",
    "                cotwrong_palcorrect+=1\n",
    "            \n",
    "\n",
    "print(f'total={total}')\n",
    "print(f'cot_correct={cot_correct}')\n",
    "print(f'pal_correct={pal_correct}')\n",
    "print(f'cot_wrong={cot_wrong}')\n",
    "print(f'pal_wrong={pal_wrong}')\n",
    "print(f'both_correct={both_correct}')\n",
    "print(f'both_wrong={both_wrong}')\n",
    "print(f'cotcorrect_palwrong={cotcorrect_palwrong}')\n",
    "print(f'cotwrong_palcorrect={cotwrong_palcorrect}')\n",
    "\n",
    "\n"
   ]
  },
  {
   "cell_type": "code",
   "execution_count": null,
   "id": "0fc7c9d3-8abc-4afa-9d2c-129fa6818775",
   "metadata": {},
   "outputs": [],
   "source": []
  },
  {
   "cell_type": "code",
   "execution_count": null,
   "id": "0ca8cc39-feb6-46d0-a1ee-8461047c5076",
   "metadata": {},
   "outputs": [],
   "source": [
    "\n"
   ]
  }
 ],
 "metadata": {
  "kernelspec": {
   "display_name": "Python 3 (ipykernel)",
   "language": "python",
   "name": "python3"
  },
  "language_info": {
   "codemirror_mode": {
    "name": "ipython",
    "version": 3
   },
   "file_extension": ".py",
   "mimetype": "text/x-python",
   "name": "python",
   "nbconvert_exporter": "python",
   "pygments_lexer": "ipython3",
   "version": "3.11.6"
  }
 },
 "nbformat": 4,
 "nbformat_minor": 5
}
